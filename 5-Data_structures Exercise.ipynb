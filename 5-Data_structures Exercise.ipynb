{
 "cells": [
  {
   "cell_type": "markdown",
   "metadata": {},
   "source": [
    "<div style=\"display: flex; align-items: center;\">\n",
    "    <img src=\"../img/es_logo.png\" alt=\"title\" style=\"margin-right: 20px;\">\n",
    "    <h1>Data Structures</h1>\n",
    "</div>"
   ]
  },
  {
   "cell_type": "markdown",
   "metadata": {},
   "source": [
    "### Submission Instructions\n",
    "\n",
    "- Complete the excercises in the notebook below.\n",
    "- Once you have completed the notebook, you should submit the completed notebook and any additional files you created for the assignment by uploading them to your github profile and sharing the github link as the submission.\n",
    "- your github repostory should contain the required files as well as a README.md file that summarizes what you have learned in this module."
   ]
  },
  {
   "cell_type": "markdown",
   "metadata": {},
   "source": [
    "### Recommended Readings:\n",
    "- GeeckforGeeks: [Linked List Data Structure](https://www.geeksforgeeks.org/data-structures/linked-list/)\n",
    "- GeeckforGeeks: [Stack Data Structure](https://www.geeksforgeeks.org/stack-data-structure/)\n",
    "- GeeckforGeeks: [Queue Data Structure](https://www.geeksforgeeks.org/queue-data-structure/)\n",
    "- GeeckforGeeks: [Binary Search Tree Data Structure](https://www.geeksforgeeks.org/binary-search-tree-in-python/)\n",
    "- GeeckforGeeks: [Binary Search Tree Traversal](https://www.geeksforgeeks.org/binary-search-tree-traversal-inorder-preorder-post-order/)\n"
   ]
  },
  {
   "cell_type": "markdown",
   "metadata": {},
   "source": [
    "#### Exercise 1:\n",
    "For the linked list implementation provided in the notebook, implement a `has_cycle` method that returns `True` if a cycle is present in a linked list, otherwise `False`.\n",
    "\n",
    "you will need to use two pointers to solve this problem. Initialize both `p1` and `p2` to the head of the linked list, then move `p1` by one and `p2` by two. If the linked list has a cycle, then `p1` and `p2` will be equal at some point. If no cycle is present, then `p2` will reach the end of the linked list."
   ]
  },
  {
   "cell_type": "code",
   "execution_count": 6,
   "metadata": {},
   "outputs": [
    {
     "name": "stdout",
     "output_type": "stream",
     "text": [
      "Does the linked list have a cycle? True\n"
     ]
    }
   ],
   "source": [
    "class Node:\n",
    "    def __init__(self, value=0, next=None):\n",
    "        self.value = value\n",
    "        self.next = next\n",
    "class LinkedList:\n",
    "    def __init__(self):\n",
    "        self.head = None\n",
    "\n",
    "    def append(self, value):\n",
    "        new_node = Node(value)\n",
    "        if not self.head:\n",
    "            self.head = new_node\n",
    "            return\n",
    "        last = self.head\n",
    "        while last.next:\n",
    "            last = last.next\n",
    "        last.next = new_node\n",
    "\n",
    "    def has_cycle(self):\n",
    "        p1 = self.head\n",
    "        p2 = self.head\n",
    "\n",
    "        while p2 and p2.next:\n",
    "            p1 = p1.next\n",
    "            p2 = p2.next.next\n",
    "\n",
    "            if p1 == p2:\n",
    "                return True\n",
    "\n",
    "        return False\n",
    "\n",
    "ll = LinkedList()\n",
    "ll.append(1)\n",
    "ll.append(2)\n",
    "ll.append(3)\n",
    "\n",
    "ll.head.next.next.next = ll.head.next\n",
    "\n",
    "print(f\"Does the linked list have a cycle? {ll.has_cycle()}\")\n"
   ]
  },
  {
   "cell_type": "markdown",
   "metadata": {},
   "source": [
    "#### Exercise 2:\n",
    "Implement the following methods for the doubly linked list:\n",
    "* `prepend(value)`: Add a node to the beginning of the list.\n",
    "* `delete(value)`: Delete the first node with the specified value.\n",
    "* `reverse()`: Reverse the list in-place."
   ]
  },
  {
   "cell_type": "code",
   "execution_count": 1,
   "metadata": {},
   "outputs": [
    {
     "name": "stdout",
     "output_type": "stream",
     "text": [
      "Original list:\n",
      "10 9 8 7 \n",
      "List after deleting 9:\n",
      "10 8 7 \n",
      "Reversed list:\n",
      "7 8 10 "
     ]
    }
   ],
   "source": [
    "class DoublyListNode:\n",
    "    def __init__(self, value):\n",
    "        self.value = value\n",
    "        self.prev = None\n",
    "        self.next = None\n",
    "\n",
    "class DoublyLinkedList:\n",
    "    def __init__(self):\n",
    "        self.head = None\n",
    "        self.tail = None\n",
    "\n",
    "    def prepend(self, value):\n",
    "        new_node = DoublyListNode(value)\n",
    "        if not self.head:\n",
    "            # Empty list\n",
    "            self.head = new_node\n",
    "            self.tail = new_node\n",
    "        else:\n",
    "            new_node.next = self.head\n",
    "            self.head.prev = new_node\n",
    "            self.head = new_node\n",
    "\n",
    "    def delete(self, value):\n",
    "        current = self.head\n",
    "        while current:\n",
    "            if current.value == value:\n",
    "                if current.prev:\n",
    "                    current.prev.next = current.next\n",
    "                else:\n",
    "                    # Deleting the head\n",
    "                    self.head = current.next\n",
    "                if current.next:\n",
    "                    current.next.prev = current.prev\n",
    "                else:\n",
    "                    # Deleting the tail\n",
    "                    self.tail = current.prev\n",
    "                break\n",
    "            current = current.next\n",
    "\n",
    "    def reverse(self):\n",
    "        current = self.head\n",
    "        while current:\n",
    "            current.prev, current.next = current.next, current.prev\n",
    "            current = current.prev\n",
    "        # Swap head and tail\n",
    "        self.head, self.tail = self.tail, self.head\n",
    "\n",
    "dll = DoublyLinkedList()\n",
    "dll.prepend(7)\n",
    "dll.prepend(8)\n",
    "dll.prepend(9)\n",
    "dll.prepend(10)\n",
    "\n",
    "print(\"Original list:\")\n",
    "current = dll.head\n",
    "while current:\n",
    "    print(current.value, end=\" \")\n",
    "    current = current.next\n",
    "\n",
    "dll.delete(9)\n",
    "print(\"\\nList after deleting 9:\")\n",
    "current = dll.head\n",
    "while current:\n",
    "    print(current.value, end=\" \")\n",
    "    current = current.next\n",
    "\n",
    "dll.reverse()\n",
    "print(\"\\nReversed list:\")\n",
    "current = dll.head\n",
    "while current:\n",
    "    print(current.value, end=\" \")\n",
    "    current = current.next"
   ]
  },
  {
   "cell_type": "markdown",
   "metadata": {},
   "source": [
    "#### Exercise 3:\n",
    "Implement the `postorder_traversal` method for the binary tree implementation provided in the notebook. The method should return a list of node values resulting from a postorder traversal."
   ]
  },
  {
   "cell_type": "code",
   "execution_count": 2,
   "metadata": {},
   "outputs": [
    {
     "name": "stdout",
     "output_type": "stream",
     "text": [
      "Postorder traversal result: [4, 5, 2, 3, 1]\n"
     ]
    }
   ],
   "source": [
    "class TreeNode:\n",
    "    def __init__(self, value=0, left=None, right=None):\n",
    "        self.value = value\n",
    "        self.left = left\n",
    "        self.right = right\n",
    "class BinaryTree:\n",
    "    def __init__(self, root=None):\n",
    "        self.root = root\n",
    "\n",
    "    def postorder_traversal(self):\n",
    "        result = []\n",
    "        self._postorder_helper(self.root, result)\n",
    "        return result\n",
    "\n",
    "    def _postorder_helper(self, node, result):\n",
    "        if node is not None:\n",
    "            self._postorder_helper(node.left, result)\n",
    "            self._postorder_helper(node.right, result)\n",
    "            result.append(node.value)\n",
    "\n",
    "# Example usage\n",
    "if __name__ == \"__main__\":\n",
    "\n",
    "    node4 = TreeNode(4)\n",
    "    node5 = TreeNode(5)\n",
    "    node2 = TreeNode(2, node4, node5)\n",
    "    node3 = TreeNode(3)\n",
    "    root = TreeNode(1, node2, node3)\n",
    "\n",
    "    tree = BinaryTree(root)\n",
    "    result = tree.postorder_traversal()\n",
    "    print(f\"Postorder traversal result: {result}\")\n"
   ]
  }
 ],
 "metadata": {
  "kernelspec": {
   "display_name": "Python 3",
   "language": "python",
   "name": "python3"
  },
  "language_info": {
   "codemirror_mode": {
    "name": "ipython",
    "version": 3
   },
   "file_extension": ".py",
   "mimetype": "text/x-python",
   "name": "python",
   "nbconvert_exporter": "python",
   "pygments_lexer": "ipython3",
   "version": "3.12.3"
  }
 },
 "nbformat": 4,
 "nbformat_minor": 2
}
